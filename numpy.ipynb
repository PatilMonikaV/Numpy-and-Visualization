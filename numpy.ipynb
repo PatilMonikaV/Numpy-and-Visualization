{
 "cells": [
  {
   "cell_type": "markdown",
   "id": "a8462ab5-acd5-4902-a0c1-00f65ec67106",
   "metadata": {},
   "source": [
    "Consider the below code to answer further questions:"
   ]
  },
  {
   "cell_type": "code",
   "execution_count": 2,
   "id": "a7d839d1-5eb2-4b30-ad63-62eac9744743",
   "metadata": {},
   "outputs": [],
   "source": [
    "import numpy as np\n",
    "list_ = ['1','2','3','4','5' ]\n",
    "array_list = np.array(object = list_)"
   ]
  },
  {
   "cell_type": "markdown",
   "id": "97bd87a4-a85e-4e1c-aafa-90379d1b1dfb",
   "metadata": {},
   "source": [
    "Q1. Is there any difference in the data type of variables list_ and array_list? If there is then write a code\n",
    "to print the data types of both the variables."
   ]
  },
  {
   "cell_type": "markdown",
   "id": "fd74d00b-2b43-49c9-99e5-97cb9bc0b7ff",
   "metadata": {},
   "source": [
    "Python lists are dynamic arrays, which means that they can grow and shrink in size as needed. Java ArrayLists are also dynamic arrays, but they are implemented differently than Python lists.\n",
    "Here is a code to print the data types of both the variables:"
   ]
  },
  {
   "cell_type": "code",
   "execution_count": 6,
   "id": "b54d9673-7d25-4c7f-85cc-4757ce484dae",
   "metadata": {},
   "outputs": [
    {
     "name": "stdout",
     "output_type": "stream",
     "text": [
      "['1', '2', '3', '4', '5']\n",
      "['1' '2' '3' '4' '5']\n",
      "<class 'list'>\n",
      "<class 'numpy.ndarray'>\n"
     ]
    }
   ],
   "source": [
    "import numpy as np\n",
    "\n",
    "list_ = [\"1\", \"2\", \"3\", \"4\", \"5\"]\n",
    "array_list = np.array(object=list_)\n",
    "print(list_)\n",
    "print(array_list)\n",
    "print(type(list_))\n",
    "print(type(array_list))"
   ]
  },
  {
   "cell_type": "markdown",
   "id": "d4764b81-f913-491c-8cbe-18c07bced919",
   "metadata": {},
   "source": [
    " The variable list_ is a regular Python list, while array_list is a NumPy array.\n",
    " NumPy arrays are a more efficient way to store data than regular Python lists,\n",
    "especially for numerical data. NumPy arrays are also more compact, and they can\n",
    " be used to perform mathematical operations more efficiently."
   ]
  },
  {
   "cell_type": "markdown",
   "id": "2241745a-ecb9-4303-92b7-0993e8883058",
   "metadata": {},
   "source": [
    " Q2. Write a code to print the data type of each and every element of both the variables list_ and\n",
    "array_list."
   ]
  },
  {
   "cell_type": "code",
   "execution_count": 8,
   "id": "5f559733-0785-4857-8022-2068136ba0cf",
   "metadata": {},
   "outputs": [
    {
     "name": "stdout",
     "output_type": "stream",
     "text": [
      "<class 'str'>\n",
      "<class 'str'>\n",
      "<class 'str'>\n",
      "<class 'str'>\n",
      "<class 'str'>\n",
      "<class 'numpy.str_'>\n",
      "<class 'numpy.str_'>\n",
      "<class 'numpy.str_'>\n",
      "<class 'numpy.str_'>\n",
      "<class 'numpy.str_'>\n"
     ]
    }
   ],
   "source": [
    "for i in list_:\n",
    "    print(type(i))\n",
    "for j in array_list:\n",
    "    print(type(j))"
   ]
  },
  {
   "cell_type": "markdown",
   "id": "33062560-2383-410d-814b-b6cd1a9dd1f1",
   "metadata": {},
   "source": [
    " Q3. Considering the following changes in the variable, array_list:\n",
    "array_list = np.array(object = list_, dtype = int)\n",
    " Will there be any difference in the data type of the elements present in both the variables, list_ and\n",
    " arra_list? If so then print the data types of each and every element present in both the variables, list_\n",
    "and arra_list."
   ]
  },
  {
   "cell_type": "code",
   "execution_count": 15,
   "id": "366af486-63c9-4212-ba21-87e3a32a4bdd",
   "metadata": {},
   "outputs": [
    {
     "name": "stdout",
     "output_type": "stream",
     "text": [
      "<class 'numpy.int64'>\n",
      "<class 'numpy.int64'>\n",
      "<class 'numpy.int64'>\n",
      "<class 'numpy.int64'>\n",
      "<class 'numpy.int64'>\n",
      "<class 'str'>\n",
      "<class 'str'>\n",
      "<class 'str'>\n",
      "<class 'str'>\n",
      "<class 'str'>\n"
     ]
    }
   ],
   "source": [
    "array_list = np.array(object=list_, dtype=int)\n",
    "for i in array_list:\n",
    "    print(type(i))\n",
    "for j in list_:\n",
    "    print(type(j))"
   ]
  },
  {
   "cell_type": "markdown",
   "id": "46bb75dc-da4e-40e9-bd3e-446800621e6f",
   "metadata": {},
   "source": [
    "Consider the below code to answer further questions:"
   ]
  },
  {
   "cell_type": "code",
   "execution_count": 16,
   "id": "7019be86-753f-4ee0-b6f8-7d82db827b1b",
   "metadata": {},
   "outputs": [],
   "source": [
    "import numpy as np\n",
    "\n",
    "num_list = [[1, 2, 3], [4, 5, 6]]\n",
    "num_array = np.array(object=num_list)"
   ]
  },
  {
   "cell_type": "markdown",
   "id": "c5012f20-dc5d-4e68-b3fb-4dd4bdcc11b1",
   "metadata": {},
   "source": [
    " Q4. Write a code to find the following characteristics of variable, num_array:\n",
    " (i) shape\n",
    " (ii) size"
   ]
  },
  {
   "cell_type": "code",
   "execution_count": 17,
   "id": "7ecac3da-0d84-4a1f-8e6d-f4d2e0b81daa",
   "metadata": {},
   "outputs": [
    {
     "name": "stdout",
     "output_type": "stream",
     "text": [
      "(2, 3)\n",
      "6\n"
     ]
    }
   ],
   "source": [
    "print(num_array.shape)\n",
    "print(np.size(num_array))"
   ]
  },
  {
   "cell_type": "markdown",
   "id": "753b7f34-5867-47bb-af58-90c9c2ec2cef",
   "metadata": {},
   "source": [
    "Q5. Write a code to create numpy array of 3*3 matrix containing zeros only, using a numpy array\n",
    " creation function.\n",
    "[Hint: The size of the array will be 9 and the shape will be (3,3).]"
   ]
  },
  {
   "cell_type": "code",
   "execution_count": 14,
   "id": "66824b78-f4c7-4f24-8175-ede5dbaab47d",
   "metadata": {},
   "outputs": [
    {
     "name": "stdout",
     "output_type": "stream",
     "text": [
      "[[0. 0. 0.]\n",
      " [0. 0. 0.]\n",
      " [0. 0. 0.]]\n",
      "9\n",
      "(3, 3)\n"
     ]
    }
   ],
   "source": [
    "matrix = np.zeros((3, 3))\n",
    "print(matrix)\n",
    "print(np.size(matrix))\n",
    "print(np.shape(matrix))"
   ]
  },
  {
   "cell_type": "markdown",
   "id": "ef0c38cb-a8c2-4c71-bb5d-b8cd04e661dc",
   "metadata": {},
   "source": [
    "Q6. Create an identity matrix of shape (5,5) using numpy functions?\n",
    "[Hint: An identity matrix is a matrix containing 1 diagonally and other elements will be 0.]"
   ]
  },
  {
   "cell_type": "code",
   "execution_count": null,
   "id": "b9e7415e-0c3d-45a3-b81d-e84fd29cf56a",
   "metadata": {},
   "outputs": [],
   "source": [
    "arr = np.array([1,1,1,1,1])\n",
    "print(np.diag(arr))"
   ]
  }
 ],
 "metadata": {
  "kernelspec": {
   "display_name": "Python 3 (ipykernel)",
   "language": "python",
   "name": "python3"
  },
  "language_info": {
   "codemirror_mode": {
    "name": "ipython",
    "version": 3
   },
   "file_extension": ".py",
   "mimetype": "text/x-python",
   "name": "python",
   "nbconvert_exporter": "python",
   "pygments_lexer": "ipython3",
   "version": "3.10.8"
  }
 },
 "nbformat": 4,
 "nbformat_minor": 5
}
